{
 "cells": [
  {
   "cell_type": "markdown",
   "metadata": {},
   "source": [
    "TWITTER ADDICTION STUDY"
   ]
  },
  {
   "cell_type": "markdown",
   "metadata": {},
   "source": [
    "Revision History\n",
    "180419:  Intial release, EF\n",
    "190709:  Updated search to provide multiple search timeframes and to export \"smartly\". EF"
   ]
  },
  {
   "cell_type": "code",
   "execution_count": 35,
   "metadata": {},
   "outputs": [],
   "source": [
    "# Load Libraries\n",
    "import tweepy\n",
    "%matplotlib inline\n",
    "import pandas as pd\n",
    "import numpy as np\n",
    "import matplotlib.pyplot as plt\n",
    "import seaborn as sns\n",
    "import csv\n",
    "import string\n",
    "from collections import Counter\n",
    "import datetime"
   ]
  },
  {
   "cell_type": "code",
   "execution_count": 3,
   "metadata": {},
   "outputs": [],
   "source": [
    "# Set Global Variables\n",
    "tdate = datetime.datetime.now().strftime(\"%Y%m%d\") # Gets today's year, month, day to assist in csv file creation later in this code."
   ]
  },
  {
   "cell_type": "code",
   "execution_count": 7,
   "metadata": {},
   "outputs": [],
   "source": [
    "# load twitter creditials data from silent file\n",
    "%run ~/twitter_credentials.py"
   ]
  },
  {
   "cell_type": "code",
   "execution_count": 8,
   "metadata": {},
   "outputs": [],
   "source": [
    "# Use tweepy.OAuthHandler to create an authentication using the given key and secret creditials\n",
    "auth = tweepy.OAuthHandler(consumer_key=con_key, consumer_secret=con_secret)\n",
    "auth.set_access_token(acc_token, acc_secret)\n",
    "\n",
    "# Connect to the Twitter API using the authentication\n",
    "api = tweepy.API(auth)"
   ]
  },
  {
   "cell_type": "code",
   "execution_count": 9,
   "metadata": {},
   "outputs": [
    {
     "name": "stdout",
     "output_type": "stream",
     "text": [
      "Could not find any more tweets!\n"
     ]
    },
    {
     "data": {
      "text/plain": [
       "4994"
      ]
     },
     "execution_count": 9,
     "metadata": {},
     "output_type": "execute_result"
    }
   ],
   "source": [
    "# Use the REST API for a static search of Twitter feeds\n",
    "# primary addiction search\n",
    "\n",
    "num_needed = 25000\n",
    "tweet_list_f = []\n",
    "last_id = -1 # id of last tweet seen\n",
    "while len(tweet_list_f) < num_needed:\n",
    "    try:\n",
    "        new_tweets = api.search(q = '#%23addiction -filter:retweets', tweet_mode='extended', count = 100, max_id = str(last_id - 1))\n",
    "    except tweepy.TweepError as e:\n",
    "        print(\"Error\", e)\n",
    "        break\n",
    "    else:\n",
    "        if not new_tweets:\n",
    "            print(\"Could not find any more tweets!\")\n",
    "            break\n",
    "        tweet_list_f.extend(new_tweets)\n",
    "        last_id = new_tweets[-1].id\n",
    "\n",
    "len(tweet_list_f)"
   ]
  },
  {
   "cell_type": "code",
   "execution_count": 11,
   "metadata": {},
   "outputs": [
    {
     "name": "stdout",
     "output_type": "stream",
     "text": [
      "Could not find any more tweets!\n"
     ]
    },
    {
     "data": {
      "text/plain": [
       "34"
      ]
     },
     "execution_count": 11,
     "metadata": {},
     "output_type": "execute_result"
    }
   ],
   "source": [
    "# tech addiction, texting while driving\n",
    "num_needed = 25000 # maximum of tweets to find\n",
    "tweet_list_d = []\n",
    "last_id = -1 # id of last tweet seen\n",
    "while len(tweet_list_d) < num_needed:\n",
    "    try:\n",
    "        new_tweets = api.search(q = '#%23driving%20texting -filter:retweets', tweet_mode='extended', count = 1000, max_id = str(last_id - 1))\n",
    "    except tweepy.TweepError as e:\n",
    "        print(\"Error\", e)\n",
    "        break\n",
    "    else:\n",
    "        if not new_tweets:\n",
    "            print(\"Could not find any more tweets!\")\n",
    "            break\n",
    "        tweet_list_d.extend(new_tweets)\n",
    "        last_id = new_tweets[-1].id\n",
    "        \n",
    "len(tweet_list_d)"
   ]
  },
  {
   "cell_type": "code",
   "execution_count": 13,
   "metadata": {},
   "outputs": [
    {
     "name": "stdout",
     "output_type": "stream",
     "text": [
      "Could not find any more tweets!\n"
     ]
    },
    {
     "data": {
      "text/plain": [
       "18"
      ]
     },
     "execution_count": 13,
     "metadata": {},
     "output_type": "execute_result"
    }
   ],
   "source": [
    "# tech addiction, phone more important than another person\n",
    "num_needed = 25000\n",
    "tweet_list_e = []\n",
    "last_id = -1 # id of last tweet seen\n",
    "while len(tweet_list_e) < num_needed:\n",
    "    try:\n",
    "        new_tweets = api.search(q = '#%23phone%20down -filter:retweets', tweet_mode='extended', count = 100, max_id = str(last_id - 1))\n",
    "    except tweepy.TweepError as e:\n",
    "        print(\"Error\", e)\n",
    "        break\n",
    "    else:\n",
    "        if not new_tweets:\n",
    "            print(\"Could not find any more tweets!\")\n",
    "            break\n",
    "        tweet_list_e.extend(new_tweets)\n",
    "        last_id = new_tweets[-1].id\n",
    "\n",
    "len(tweet_list_e)\n"
   ]
  },
  {
   "cell_type": "code",
   "execution_count": 14,
   "metadata": {},
   "outputs": [
    {
     "data": {
      "text/html": [
       "<div>\n",
       "<style scoped>\n",
       "    .dataframe tbody tr th:only-of-type {\n",
       "        vertical-align: middle;\n",
       "    }\n",
       "\n",
       "    .dataframe tbody tr th {\n",
       "        vertical-align: top;\n",
       "    }\n",
       "\n",
       "    .dataframe thead th {\n",
       "        text-align: right;\n",
       "    }\n",
       "</style>\n",
       "<table border=\"1\" class=\"dataframe\">\n",
       "  <thead>\n",
       "    <tr style=\"text-align: right;\">\n",
       "      <th></th>\n",
       "      <th>Tweet_Text</th>\n",
       "      <th>retweet</th>\n",
       "      <th>language</th>\n",
       "    </tr>\n",
       "  </thead>\n",
       "  <tbody>\n",
       "    <tr>\n",
       "      <th>0</th>\n",
       "      <td>😅📱the smart phone life! Scrolling down scrolli...</td>\n",
       "      <td>False</td>\n",
       "      <td>en</td>\n",
       "    </tr>\n",
       "    <tr>\n",
       "      <th>1</th>\n",
       "      <td>@MSHPTrooperGHQ reported 139 #carcrash #injuri...</td>\n",
       "      <td>False</td>\n",
       "      <td>en</td>\n",
       "    </tr>\n",
       "    <tr>\n",
       "      <th>2</th>\n",
       "      <td>Buy Mobiles At Zero Down Payment OppoF11, Oppo...</td>\n",
       "      <td>False</td>\n",
       "      <td>en</td>\n",
       "    </tr>\n",
       "    <tr>\n",
       "      <th>3</th>\n",
       "      <td>#Tiger vs #motorcycle. Put down the #phone, ta...</td>\n",
       "      <td>False</td>\n",
       "      <td>en</td>\n",
       "    </tr>\n",
       "    <tr>\n",
       "      <th>4</th>\n",
       "      <td>Stand up &amp;amp; sit back down on it. celebrate ...</td>\n",
       "      <td>False</td>\n",
       "      <td>en</td>\n",
       "    </tr>\n",
       "  </tbody>\n",
       "</table>\n",
       "</div>"
      ],
      "text/plain": [
       "                                          Tweet_Text  retweet language\n",
       "0  😅📱the smart phone life! Scrolling down scrolli...    False       en\n",
       "1  @MSHPTrooperGHQ reported 139 #carcrash #injuri...    False       en\n",
       "2  Buy Mobiles At Zero Down Payment OppoF11, Oppo...    False       en\n",
       "3  #Tiger vs #motorcycle. Put down the #phone, ta...    False       en\n",
       "4  Stand up &amp; sit back down on it. celebrate ...    False       en"
      ]
     },
     "execution_count": 14,
     "metadata": {},
     "output_type": "execute_result"
    }
   ],
   "source": [
    "# Create pandas dataframe from twitter output, technology addiction\n",
    "data4 = pd.DataFrame(data=[tweet.full_text for tweet in tweet_list_e], columns=['Tweet_Text'])\n",
    "data4['retweet'] = np.array([tweet.retweeted for tweet in tweet_list_e])\n",
    "data4['language'] = np.array([tweet.lang for tweet in tweet_list_e])\n",
    "data4.head()"
   ]
  },
  {
   "cell_type": "code",
   "execution_count": 15,
   "metadata": {},
   "outputs": [
    {
     "data": {
      "text/html": [
       "<div>\n",
       "<style scoped>\n",
       "    .dataframe tbody tr th:only-of-type {\n",
       "        vertical-align: middle;\n",
       "    }\n",
       "\n",
       "    .dataframe tbody tr th {\n",
       "        vertical-align: top;\n",
       "    }\n",
       "\n",
       "    .dataframe thead th {\n",
       "        text-align: right;\n",
       "    }\n",
       "</style>\n",
       "<table border=\"1\" class=\"dataframe\">\n",
       "  <thead>\n",
       "    <tr style=\"text-align: right;\">\n",
       "      <th></th>\n",
       "      <th>Work_Tweet_Text</th>\n",
       "      <th>retweet</th>\n",
       "      <th>language</th>\n",
       "    </tr>\n",
       "  </thead>\n",
       "  <tbody>\n",
       "    <tr>\n",
       "      <th>0</th>\n",
       "      <td>8:17 Why We Need to Think Differently About Ad...</td>\n",
       "      <td>False</td>\n",
       "      <td>en</td>\n",
       "    </tr>\n",
       "    <tr>\n",
       "      <th>1</th>\n",
       "      <td>New blog post at https://t.co/YihSUNlrrv! For ...</td>\n",
       "      <td>False</td>\n",
       "      <td>en</td>\n",
       "    </tr>\n",
       "    <tr>\n",
       "      <th>2</th>\n",
       "      <td>No one starts out in life deciding they are go...</td>\n",
       "      <td>False</td>\n",
       "      <td>en</td>\n",
       "    </tr>\n",
       "    <tr>\n",
       "      <th>3</th>\n",
       "      <td>Knowing which TYPE of memory may be impaired h...</td>\n",
       "      <td>False</td>\n",
       "      <td>en</td>\n",
       "    </tr>\n",
       "    <tr>\n",
       "      <th>4</th>\n",
       "      <td>Really good information and the nature of kind...</td>\n",
       "      <td>False</td>\n",
       "      <td>en</td>\n",
       "    </tr>\n",
       "  </tbody>\n",
       "</table>\n",
       "</div>"
      ],
      "text/plain": [
       "                                     Work_Tweet_Text  retweet language\n",
       "0  8:17 Why We Need to Think Differently About Ad...    False       en\n",
       "1  New blog post at https://t.co/YihSUNlrrv! For ...    False       en\n",
       "2  No one starts out in life deciding they are go...    False       en\n",
       "3  Knowing which TYPE of memory may be impaired h...    False       en\n",
       "4  Really good information and the nature of kind...    False       en"
      ]
     },
     "execution_count": 15,
     "metadata": {},
     "output_type": "execute_result"
    }
   ],
   "source": [
    "# Create pandas dataframe from twitter output, main addiction area\n",
    "data = pd.DataFrame(data=[tweet.full_text for tweet in tweet_list_f], columns=['Work_Tweet_Text'])\n",
    "data['retweet'] = np.array([tweet.retweeted for tweet in tweet_list_f])\n",
    "data['language'] = np.array([tweet.lang for tweet in tweet_list_f])\n",
    "data.head()"
   ]
  },
  {
   "cell_type": "code",
   "execution_count": 16,
   "metadata": {},
   "outputs": [
    {
     "data": {
      "text/html": [
       "<div>\n",
       "<style scoped>\n",
       "    .dataframe tbody tr th:only-of-type {\n",
       "        vertical-align: middle;\n",
       "    }\n",
       "\n",
       "    .dataframe tbody tr th {\n",
       "        vertical-align: top;\n",
       "    }\n",
       "\n",
       "    .dataframe thead th {\n",
       "        text-align: right;\n",
       "    }\n",
       "</style>\n",
       "<table border=\"1\" class=\"dataframe\">\n",
       "  <thead>\n",
       "    <tr style=\"text-align: right;\">\n",
       "      <th></th>\n",
       "      <th>Tweet_Text</th>\n",
       "      <th>retweet</th>\n",
       "      <th>language</th>\n",
       "    </tr>\n",
       "  </thead>\n",
       "  <tbody>\n",
       "    <tr>\n",
       "      <th>0</th>\n",
       "      <td>Distracted Drivers are 29 Times More Likely to...</td>\n",
       "      <td>False</td>\n",
       "      <td>en</td>\n",
       "    </tr>\n",
       "    <tr>\n",
       "      <th>1</th>\n",
       "      <td>Don’t #Text and Drive. Let’s save #SomeLives.\\...</td>\n",
       "      <td>False</td>\n",
       "      <td>en</td>\n",
       "    </tr>\n",
       "    <tr>\n",
       "      <th>2</th>\n",
       "      <td>Distracted Drivers are 29 Times More Likely to...</td>\n",
       "      <td>False</td>\n",
       "      <td>en</td>\n",
       "    </tr>\n",
       "    <tr>\n",
       "      <th>3</th>\n",
       "      <td>Distracted Drivers are 29 Times More Likely to...</td>\n",
       "      <td>False</td>\n",
       "      <td>en</td>\n",
       "    </tr>\n",
       "    <tr>\n",
       "      <th>4</th>\n",
       "      <td>Studies have shown that people who read or wri...</td>\n",
       "      <td>False</td>\n",
       "      <td>en</td>\n",
       "    </tr>\n",
       "  </tbody>\n",
       "</table>\n",
       "</div>"
      ],
      "text/plain": [
       "                                          Tweet_Text  retweet language\n",
       "0  Distracted Drivers are 29 Times More Likely to...    False       en\n",
       "1  Don’t #Text and Drive. Let’s save #SomeLives.\\...    False       en\n",
       "2  Distracted Drivers are 29 Times More Likely to...    False       en\n",
       "3  Distracted Drivers are 29 Times More Likely to...    False       en\n",
       "4  Studies have shown that people who read or wri...    False       en"
      ]
     },
     "execution_count": 16,
     "metadata": {},
     "output_type": "execute_result"
    }
   ],
   "source": [
    "# Create pandas dataframe from twitter output, technology addiction\n",
    "data2 = pd.DataFrame(data=[tweet.full_text for tweet in tweet_list_d], columns=['Tweet_Text'])\n",
    "data2['retweet'] = np.array([tweet.retweeted for tweet in tweet_list_d])\n",
    "data2['language'] = np.array([tweet.lang for tweet in tweet_list_d])\n",
    "data2.head()"
   ]
  },
  {
   "cell_type": "code",
   "execution_count": 18,
   "metadata": {},
   "outputs": [
    {
     "data": {
      "text/html": [
       "<div>\n",
       "<style scoped>\n",
       "    .dataframe tbody tr th:only-of-type {\n",
       "        vertical-align: middle;\n",
       "    }\n",
       "\n",
       "    .dataframe tbody tr th {\n",
       "        vertical-align: top;\n",
       "    }\n",
       "\n",
       "    .dataframe thead th {\n",
       "        text-align: right;\n",
       "    }\n",
       "</style>\n",
       "<table border=\"1\" class=\"dataframe\">\n",
       "  <thead>\n",
       "    <tr style=\"text-align: right;\">\n",
       "      <th></th>\n",
       "      <th>Work_Tweet_Text</th>\n",
       "      <th>retweet</th>\n",
       "      <th>language</th>\n",
       "    </tr>\n",
       "  </thead>\n",
       "  <tbody>\n",
       "    <tr>\n",
       "      <th>count</th>\n",
       "      <td>4994</td>\n",
       "      <td>4994</td>\n",
       "      <td>4994</td>\n",
       "    </tr>\n",
       "    <tr>\n",
       "      <th>unique</th>\n",
       "      <td>4819</td>\n",
       "      <td>1</td>\n",
       "      <td>28</td>\n",
       "    </tr>\n",
       "    <tr>\n",
       "      <th>top</th>\n",
       "      <td>Addiction Solutions: https://t.co/1JP42JZvzI\\n...</td>\n",
       "      <td>False</td>\n",
       "      <td>en</td>\n",
       "    </tr>\n",
       "    <tr>\n",
       "      <th>freq</th>\n",
       "      <td>9</td>\n",
       "      <td>4994</td>\n",
       "      <td>4436</td>\n",
       "    </tr>\n",
       "  </tbody>\n",
       "</table>\n",
       "</div>"
      ],
      "text/plain": [
       "                                          Work_Tweet_Text retweet language\n",
       "count                                                4994    4994     4994\n",
       "unique                                               4819       1       28\n",
       "top     Addiction Solutions: https://t.co/1JP42JZvzI\\n...   False       en\n",
       "freq                                                    9    4994     4436"
      ]
     },
     "execution_count": 18,
     "metadata": {},
     "output_type": "execute_result"
    }
   ],
   "source": [
    "data.describe()"
   ]
  },
  {
   "cell_type": "code",
   "execution_count": 19,
   "metadata": {},
   "outputs": [],
   "source": [
    "# create variable to parse data of main twitter collection into categories.\n",
    "# add specific technology searches to results\n",
    "def count_addiction(all_text):\n",
    "    my_data = []\n",
    "    addiction = 0 # create variables starting at 0 for all addiction types\n",
    "    illegal_drugs = 0\n",
    "    prescription_drugs = 0\n",
    "    shopping = 0\n",
    "    sex = 0\n",
    "    gambling = 0\n",
    "    technology = 0\n",
    "    not_tech = 0\n",
    "    alcohol = 0\n",
    "    smoking = 0\n",
    "    caffeine = 0\n",
    "    addiction = len(tweet_list_d) + len(tweet_list_e) # add counts of put phone down and driving and texting as technology addicted\n",
    "    technology = len(tweet_list_d) + len(tweet_list_e)\n",
    "    for s in all_text:\n",
    "        words = [\"cocaine\", \"meth\", \"marijuana\", \"heroin\", \"drugs\"]\n",
    "        for w in words:\n",
    "            if w in s:\n",
    "                illegal_drugs = illegal_drugs + 1\n",
    "                addiction = addiction + 1\n",
    "                break # only count one occurance of addiction method\n",
    "        words = [\"pills\", \"opioid\", \"oxycontin\", \"painkiller\", \"painkillers\"]\n",
    "        for w in words:\n",
    "            if w in s:\n",
    "                prescription_drugs = prescription_drugs + 1\n",
    "                addiction = addiction + 1\n",
    "                break\n",
    "        words = [\"shop\", \"shopping\", \"buy\", \"buying\"]\n",
    "        for w in words:\n",
    "            if w in s:\n",
    "                shopping = shopping + 1\n",
    "                addiction = addiction + 1\n",
    "                break\n",
    "        words = [\"sex\", \"porn\", \"pornography\"]\n",
    "        for w in words:\n",
    "            if w in s:\n",
    "                sex = sex + 1\n",
    "                addiction = addiction + 1\n",
    "                break\n",
    "        words = [\"gambling\", \"gamble\", \"bet\", \"betting\", \"casino\", \"horse\", \"horses\"]\n",
    "        for w in words:\n",
    "            if w in s:\n",
    "                gambling = gambling + 1\n",
    "                addiction = addiction + 1\n",
    "                break\n",
    "        words = [\"alcohol\", \"alcoholism\", \"drink\", \"drinking\", \"party\"]\n",
    "        for w in words:\n",
    "            if w in s:\n",
    "                alcohol = alcohol + 1\n",
    "                addiction = addiction + 1\n",
    "                break\n",
    "        words = [\"smoking\", \"smoke\", \"cigarettes\", \"ecigarettes\"]\n",
    "        for w in words:\n",
    "            if w in s:\n",
    "                smoking = smoking + 1\n",
    "                addiction = addiction + 1\n",
    "                break\n",
    "        words = [\"caffeine\", \"coffee\", \"tea\", \"red bull\", \"energy\"]\n",
    "        for w in words:\n",
    "            if w in s:\n",
    "                caffeine = caffeine + 1\n",
    "                addiction = addiction + 1\n",
    "                break\n",
    "        words = [\"phone\", \"iphone\", \"digital\", \"technology\", \"facebook\", \"smartphone\", \"texting\", \"driving\", \"gaming\", \"internet\", \"video\"]\n",
    "        for w in words:\n",
    "            if w in s:\n",
    "                technology = technology + 1\n",
    "                addiction = addiction + 1\n",
    "                break\n",
    "        words = [\"caffeine\", \"coffee\", \"tea\", \"red bull\", \"energy\", \"cocaine\", \"meth\", \"marijuana\", \"heroin\", \"drugs\", \"pills\", \"opioid\", \"oxycontin\", \"painkiller\", \"painkillers\",\"shop\", \"shopping\", \"buy\", \"buying\",\"sex\", \"porn\", \"pornography\", \"gambling\", \"gamble\", \"bet\", \"betting\", \"casino\", \"horse\", \"horses\", \"alcohol\", \"alcoholism\", \"drink\", \"drinking\", \"party\",\"smoking\", \"smoke\", \"cigarettes\", \"ecigarettes\"]\n",
    "        for w in words:\n",
    "            if w in s:\n",
    "                not_tech = not_tech + 1\n",
    "                break\n",
    "    # create a dataframe to hold the results\n",
    "    addiction_names = [\"Total_addiction\", \"illegal_drugs\", \"prescription_drugs\", \"shopping\", \"sex\", \"gambling\", \"technology\", \"alcohol\", \"smoking\", \"Caffeine\", \"Not Tech\"]\n",
    "    addiction_values = [addiction, illegal_drugs, prescription_drugs, shopping, sex, gambling, technology, alcohol, smoking, caffeine, not_tech]\n",
    "    my_data_df = pd.DataFrame({\"Addiction\" : addiction_names, \"Number\" : addiction_values})\n",
    "    return my_data_df"
   ]
  },
  {
   "cell_type": "code",
   "execution_count": 28,
   "metadata": {},
   "outputs": [
    {
     "data": {
      "text/html": [
       "<div>\n",
       "<style scoped>\n",
       "    .dataframe tbody tr th:only-of-type {\n",
       "        vertical-align: middle;\n",
       "    }\n",
       "\n",
       "    .dataframe tbody tr th {\n",
       "        vertical-align: top;\n",
       "    }\n",
       "\n",
       "    .dataframe thead th {\n",
       "        text-align: right;\n",
       "    }\n",
       "</style>\n",
       "<table border=\"1\" class=\"dataframe\">\n",
       "  <thead>\n",
       "    <tr style=\"text-align: right;\">\n",
       "      <th></th>\n",
       "      <th>Addiction</th>\n",
       "      <th>Number</th>\n",
       "    </tr>\n",
       "  </thead>\n",
       "  <tbody>\n",
       "    <tr>\n",
       "      <th>0</th>\n",
       "      <td>Total_addiction</td>\n",
       "      <td>1991</td>\n",
       "    </tr>\n",
       "    <tr>\n",
       "      <th>1</th>\n",
       "      <td>illegal_drugs</td>\n",
       "      <td>417</td>\n",
       "    </tr>\n",
       "    <tr>\n",
       "      <th>2</th>\n",
       "      <td>prescription_drugs</td>\n",
       "      <td>309</td>\n",
       "    </tr>\n",
       "    <tr>\n",
       "      <th>3</th>\n",
       "      <td>shopping</td>\n",
       "      <td>30</td>\n",
       "    </tr>\n",
       "    <tr>\n",
       "      <th>4</th>\n",
       "      <td>sex</td>\n",
       "      <td>136</td>\n",
       "    </tr>\n",
       "    <tr>\n",
       "      <th>5</th>\n",
       "      <td>gambling</td>\n",
       "      <td>223</td>\n",
       "    </tr>\n",
       "    <tr>\n",
       "      <th>6</th>\n",
       "      <td>technology</td>\n",
       "      <td>236</td>\n",
       "    </tr>\n",
       "    <tr>\n",
       "      <th>7</th>\n",
       "      <td>alcohol</td>\n",
       "      <td>460</td>\n",
       "    </tr>\n",
       "    <tr>\n",
       "      <th>8</th>\n",
       "      <td>smoking</td>\n",
       "      <td>51</td>\n",
       "    </tr>\n",
       "    <tr>\n",
       "      <th>9</th>\n",
       "      <td>Caffeine</td>\n",
       "      <td>129</td>\n",
       "    </tr>\n",
       "    <tr>\n",
       "      <th>10</th>\n",
       "      <td>Not Tech</td>\n",
       "      <td>1418</td>\n",
       "    </tr>\n",
       "  </tbody>\n",
       "</table>\n",
       "</div>"
      ],
      "text/plain": [
       "             Addiction  Number\n",
       "0      Total_addiction    1991\n",
       "1        illegal_drugs     417\n",
       "2   prescription_drugs     309\n",
       "3             shopping      30\n",
       "4                  sex     136\n",
       "5             gambling     223\n",
       "6           technology     236\n",
       "7              alcohol     460\n",
       "8              smoking      51\n",
       "9             Caffeine     129\n",
       "10            Not Tech    1418"
      ]
     },
     "execution_count": 28,
     "metadata": {},
     "output_type": "execute_result"
    }
   ],
   "source": [
    "# call the function to extract the data from the tweet searches and store it into a variable\n",
    "dataframe_addiction = count_addiction(data['Work_Tweet_Text'])\n",
    "# print the results\n",
    "count_addiction(data['Work_Tweet_Text'])"
   ]
  },
  {
   "cell_type": "markdown",
   "metadata": {},
   "source": [
    "# markdown cell of styles of addiction and it's related symptoms\n",
    "illegal_drugs = [\"cocaine\", \"meth\", \"marijuana\", \"heroin\", \"drugs\"]\n",
    "perscription_drugs = [\"pills\", \"opioid\", \"oxycontin\", \"painkiller\", \"painkillers\"]\n",
    "shopping = [\"shop\", \"shopping\", \"buy\", \"buying\"]\n",
    "sex = [\"sex\", \"porn\", \"pornography\"]\n",
    "gambling = [\"gambling\", \"gamble\", \"bet\", \"betting\", \"casino\", \"horse\", \"horses\"]\n",
    "alcohol = [\"alcohol\", \"alcoholism\", \"drink\", \"drinking\", \"party\"]\n",
    "smoking = [\"smoking\", \"smoke\", \"cigarettes\", \"ecigarettes\"]\n",
    "technology = [\"phone\", \"iphone\", \"digital\", \"technology\", \"facebook\", \"smartphone\", \"texting\", \"driving\", \"gaming\", \"internet\", \"video\"]\n",
    "caffeine = [\"caffeine\", \"coffee\", \"tea\", \"red bull\", \"energy\"]"
   ]
  },
  {
   "cell_type": "code",
   "execution_count": 24,
   "metadata": {},
   "outputs": [],
   "source": [
    "# export dataframe to csv file\n",
    "dataframe_addiction.to_csv(\"data/addiction\"+tdate+\".csv\", index=False)"
   ]
  },
  {
   "cell_type": "code",
   "execution_count": 29,
   "metadata": {},
   "outputs": [],
   "source": [
    "# Read csv file from previous twitter search to the current search into code\n",
    "data_180419 = pd.read_csv('data/addiction180419.csv')\n",
    "data_190709 = dataframe_addiction"
   ]
  },
  {
   "cell_type": "markdown",
   "metadata": {},
   "source": [
    "# Read csv file from previous twitter search to another search into code\n",
    "data_180419 = pd.read_csv('data/addiction180419.csv')\n",
    "data_190709 = pd.resd_csv('data/addiction20190709.csv')"
   ]
  },
  {
   "cell_type": "code",
   "execution_count": 30,
   "metadata": {},
   "outputs": [],
   "source": [
    "# change count column to the date of the search\n",
    "data_180419.columns = ['Addiction', '180419']\n",
    "data_190709.columns = ['Addiction', '190709']"
   ]
  },
  {
   "cell_type": "code",
   "execution_count": 31,
   "metadata": {},
   "outputs": [],
   "source": [
    "# merge 2 dataframes into one.\n",
    "df = pd.merge(data_180419, data_190709, on='Addiction')"
   ]
  },
  {
   "cell_type": "code",
   "execution_count": 33,
   "metadata": {},
   "outputs": [
    {
     "name": "stdout",
     "output_type": "stream",
     "text": [
      "             Addiction  180419  190709\n",
      "0      Total_addiction    3862    1991\n",
      "1        illegal_drugs     778     417\n",
      "2   prescription_drugs     717     309\n",
      "3             shopping      89      30\n",
      "4                  sex     189     136\n",
      "5             gambling     296     223\n",
      "6           technology     363     236\n",
      "7              alcohol    1202     460\n",
      "8              smoking      71      51\n",
      "9             Caffeine     157     129\n",
      "10            Not Tech    2857    1418\n"
     ]
    }
   ],
   "source": [
    "print(df)"
   ]
  },
  {
   "cell_type": "code",
   "execution_count": 52,
   "metadata": {},
   "outputs": [
    {
     "data": {
      "image/png": "[encoded data removed]",
      "text/plain": [
       "<Figure size 432x288 with 1 Axes>"
      ]
     },
     "metadata": {},
     "output_type": "display_data"
    }
   ],
   "source": [
    "# barplot of first addiction search\n",
    "ax = sns.barplot(x=\"180419\", y=\"Addiction\", data=df)"
   ]
  },
  {
   "cell_type": "code",
   "execution_count": 53,
   "metadata": {},
   "outputs": [
    {
     "data": {
      "image/png": "[encoded data removed]",
      "text/plain": [
       "<Figure size 432x288 with 1 Axes>"
      ]
     },
     "metadata": {},
     "output_type": "display_data"
    }
   ],
   "source": [
    "# barplot of second addiction search\n",
    "ax = sns.barplot(x=\"190709\", y=\"Addiction\", data=df)"
   ]
  },
  {
   "cell_type": "code",
   "execution_count": null,
   "metadata": {},
   "outputs": [],
   "source": []
  }
 ],
 "metadata": {
  "kernelspec": {
   "display_name": "Python 3",
   "language": "python",
   "name": "python3"
  },
  "language_info": {
   "codemirror_mode": {
    "name": "ipython",
    "version": 3
   },
   "file_extension": ".py",
   "mimetype": "text/x-python",
   "name": "python",
   "nbconvert_exporter": "python",
   "pygments_lexer": "ipython3",
   "version": "3.7.3"
  }
 },
 "nbformat": 4,
 "nbformat_minor": 1
}
